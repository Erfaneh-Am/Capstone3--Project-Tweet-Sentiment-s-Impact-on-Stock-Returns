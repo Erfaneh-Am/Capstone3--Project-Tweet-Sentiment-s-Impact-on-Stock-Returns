{
 "cells": [
  {
   "cell_type": "code",
   "execution_count": 1,
   "id": "25639f12",
   "metadata": {},
   "outputs": [
    {
     "name": "stderr",
     "output_type": "stream",
     "text": [
      "[nltk_data] Downloading package omw-1.4 to\n",
      "[nltk_data]     C:\\Users\\amoueye\\AppData\\Roaming\\nltk_data...\n",
      "[nltk_data]   Package omw-1.4 is already up-to-date!\n"
     ]
    },
    {
     "data": {
      "text/plain": [
       "True"
      ]
     },
     "execution_count": 1,
     "metadata": {},
     "output_type": "execute_result"
    }
   ],
   "source": [
    "import pandas as pd\n",
    "import matplotlib.pyplot as plt\n",
    "import nltk\n",
    "import os\n",
    "import random\n",
    "import re\n",
    "from nltk.sentiment import SentimentIntensityAnalyzer\n",
    "import datetime\n",
    "nltk.download('omw-1.4')"
   ]
  },
  {
   "cell_type": "code",
   "execution_count": 2,
   "id": "025cd1bd",
   "metadata": {},
   "outputs": [],
   "source": [
    "import tensorflow as tf\n",
    "from tensorflow.keras.models import Sequential\n",
    "from tensorflow.keras import utils\n",
    "from tensorflow.keras.layers import LSTM, Dense, Embedding, Dropout\n",
    "from tensorflow.keras.preprocessing.text import Tokenizer\n",
    "from tensorflow.keras.preprocessing.sequence import pad_sequences\n",
    "from keras.layers import Bidirectional\n",
    "from sklearn.model_selection import train_test_split\n",
    "from sklearn.preprocessing import LabelEncoder"
   ]
  },
  {
   "cell_type": "code",
   "execution_count": 3,
   "id": "2c367f8d",
   "metadata": {},
   "outputs": [
    {
     "name": "stderr",
     "output_type": "stream",
     "text": [
      "[nltk_data] Downloading package stopwords to\n",
      "[nltk_data]     C:\\Users\\amoueye\\AppData\\Roaming\\nltk_data...\n",
      "[nltk_data]   Package stopwords is already up-to-date!\n"
     ]
    }
   ],
   "source": [
    "nltk.download('stopwords')\n",
    "from nltk.corpus import stopwords\n",
    "stop_words = set(stopwords.words('english'))\n"
   ]
  },
  {
   "cell_type": "code",
   "execution_count": 4,
   "id": "ab8f7f67",
   "metadata": {},
   "outputs": [
    {
     "name": "stderr",
     "output_type": "stream",
     "text": [
      "[nltk_data] Downloading package wordnet to\n",
      "[nltk_data]     C:\\Users\\amoueye\\AppData\\Roaming\\nltk_data...\n",
      "[nltk_data]   Package wordnet is already up-to-date!\n"
     ]
    },
    {
     "data": {
      "text/plain": [
       "True"
      ]
     },
     "execution_count": 4,
     "metadata": {},
     "output_type": "execute_result"
    }
   ],
   "source": [
    "import nltk\n",
    "nltk.download('wordnet')"
   ]
  },
  {
   "cell_type": "code",
   "execution_count": 5,
   "id": "010c7827",
   "metadata": {},
   "outputs": [],
   "source": [
    "df= pd.read_csv('../Data/sentiment_data_cleaned.csv')"
   ]
  },
  {
   "cell_type": "code",
   "execution_count": 6,
   "id": "3f2781d7",
   "metadata": {
    "scrolled": true
   },
   "outputs": [
    {
     "data": {
      "text/html": [
       "<div>\n",
       "<style scoped>\n",
       "    .dataframe tbody tr th:only-of-type {\n",
       "        vertical-align: middle;\n",
       "    }\n",
       "\n",
       "    .dataframe tbody tr th {\n",
       "        vertical-align: top;\n",
       "    }\n",
       "\n",
       "    .dataframe thead th {\n",
       "        text-align: right;\n",
       "    }\n",
       "</style>\n",
       "<table border=\"1\" class=\"dataframe\">\n",
       "  <thead>\n",
       "    <tr style=\"text-align: right;\">\n",
       "      <th></th>\n",
       "      <th>Unnamed: 0</th>\n",
       "      <th>date</th>\n",
       "      <th>adj_close</th>\n",
       "      <th>volume</th>\n",
       "      <th>ticker</th>\n",
       "      <th>1_day_return</th>\n",
       "      <th>TWEET</th>\n",
       "    </tr>\n",
       "  </thead>\n",
       "  <tbody>\n",
       "    <tr>\n",
       "      <th>0</th>\n",
       "      <td>0</td>\n",
       "      <td>2017-01-31</td>\n",
       "      <td>28.308922</td>\n",
       "      <td>196804000</td>\n",
       "      <td>AAPL</td>\n",
       "      <td>-0.002307</td>\n",
       "      <td>Apple will break losing streak this quarter: P...</td>\n",
       "    </tr>\n",
       "    <tr>\n",
       "      <th>1</th>\n",
       "      <td>1</td>\n",
       "      <td>2017-01-31</td>\n",
       "      <td>28.308922</td>\n",
       "      <td>196804000</td>\n",
       "      <td>AAPL</td>\n",
       "      <td>-0.002307</td>\n",
       "      <td>Apple iPad Air 2 128GB, Wi-Fi, 9.7in - Space G...</td>\n",
       "    </tr>\n",
       "    <tr>\n",
       "      <th>2</th>\n",
       "      <td>2</td>\n",
       "      <td>2017-01-31</td>\n",
       "      <td>28.308922</td>\n",
       "      <td>196804000</td>\n",
       "      <td>AAPL</td>\n",
       "      <td>-0.002307</td>\n",
       "      <td>Apple iPad Air 2 128GB, Wi-Fi, 9.7in - Space G...</td>\n",
       "    </tr>\n",
       "    <tr>\n",
       "      <th>3</th>\n",
       "      <td>3</td>\n",
       "      <td>2017-01-31</td>\n",
       "      <td>28.308922</td>\n",
       "      <td>196804000</td>\n",
       "      <td>AAPL</td>\n",
       "      <td>-0.002307</td>\n",
       "      <td>Apple iPad Air 2 128GB, Wi-Fi, 9.7in - Space G...</td>\n",
       "    </tr>\n",
       "    <tr>\n",
       "      <th>4</th>\n",
       "      <td>4</td>\n",
       "      <td>2017-01-31</td>\n",
       "      <td>28.308922</td>\n",
       "      <td>196804000</td>\n",
       "      <td>AAPL</td>\n",
       "      <td>-0.002307</td>\n",
       "      <td>Apple iPad Air 2 128GB, Wi-Fi, 9.7in - Space G...</td>\n",
       "    </tr>\n",
       "  </tbody>\n",
       "</table>\n",
       "</div>"
      ],
      "text/plain": [
       "   Unnamed: 0        date  adj_close     volume ticker  1_day_return  \\\n",
       "0           0  2017-01-31  28.308922  196804000   AAPL     -0.002307   \n",
       "1           1  2017-01-31  28.308922  196804000   AAPL     -0.002307   \n",
       "2           2  2017-01-31  28.308922  196804000   AAPL     -0.002307   \n",
       "3           3  2017-01-31  28.308922  196804000   AAPL     -0.002307   \n",
       "4           4  2017-01-31  28.308922  196804000   AAPL     -0.002307   \n",
       "\n",
       "                                               TWEET  \n",
       "0  Apple will break losing streak this quarter: P...  \n",
       "1  Apple iPad Air 2 128GB, Wi-Fi, 9.7in - Space G...  \n",
       "2  Apple iPad Air 2 128GB, Wi-Fi, 9.7in - Space G...  \n",
       "3  Apple iPad Air 2 128GB, Wi-Fi, 9.7in - Space G...  \n",
       "4  Apple iPad Air 2 128GB, Wi-Fi, 9.7in - Space G...  "
      ]
     },
     "execution_count": 6,
     "metadata": {},
     "output_type": "execute_result"
    }
   ],
   "source": [
    "df.head()"
   ]
  },
  {
   "cell_type": "code",
   "execution_count": 7,
   "id": "fca2fe1f",
   "metadata": {},
   "outputs": [
    {
     "name": "stdout",
     "output_type": "stream",
     "text": [
      "<class 'pandas.core.frame.DataFrame'>\n",
      "RangeIndex: 206724 entries, 0 to 206723\n",
      "Data columns (total 7 columns):\n",
      " #   Column        Non-Null Count   Dtype  \n",
      "---  ------        --------------   -----  \n",
      " 0   Unnamed: 0    206724 non-null  int64  \n",
      " 1   date          206724 non-null  object \n",
      " 2   adj_close     206724 non-null  float64\n",
      " 3   volume        206724 non-null  int64  \n",
      " 4   ticker        206724 non-null  object \n",
      " 5   1_day_return  206724 non-null  float64\n",
      " 6   TWEET         206724 non-null  object \n",
      "dtypes: float64(2), int64(2), object(3)\n",
      "memory usage: 11.0+ MB\n"
     ]
    }
   ],
   "source": [
    "df.info()"
   ]
  },
  {
   "cell_type": "code",
   "execution_count": 8,
   "id": "68c27a01",
   "metadata": {},
   "outputs": [],
   "source": [
    "df.drop(columns='Unnamed: 0', inplace=True)"
   ]
  },
  {
   "cell_type": "code",
   "execution_count": 9,
   "id": "68f4562f",
   "metadata": {},
   "outputs": [],
   "source": [
    "df['date'] =  pd.to_datetime(df['date'])\n"
   ]
  },
  {
   "cell_type": "code",
   "execution_count": 10,
   "id": "4d56be2f",
   "metadata": {},
   "outputs": [
    {
     "data": {
      "text/plain": [
       "(Timestamp('2017-01-31 00:00:00'), Timestamp('2018-10-30 00:00:00'))"
      ]
     },
     "execution_count": 10,
     "metadata": {},
     "output_type": "execute_result"
    }
   ],
   "source": [
    "df['date'].min() , df['date'].max()"
   ]
  },
  {
   "cell_type": "code",
   "execution_count": 11,
   "id": "13f1cd5e",
   "metadata": {},
   "outputs": [
    {
     "data": {
      "text/plain": [
       "(206724, 6)"
      ]
     },
     "execution_count": 11,
     "metadata": {},
     "output_type": "execute_result"
    }
   ],
   "source": [
    "df.shape"
   ]
  },
  {
   "cell_type": "markdown",
   "id": "2f1d8bd2",
   "metadata": {},
   "source": [
    "### Preprocess All the Twits"
   ]
  },
  {
   "cell_type": "code",
   "execution_count": 12,
   "id": "2e92be33",
   "metadata": {},
   "outputs": [],
   "source": [
    "\n",
    "\n",
    "def preprocess_text(text):\n",
    "    # Convert to lowercase\n",
    "    text = text.lower()\n",
    "    # Remove URLs\n",
    "    text = re.sub(r\"http\\S+|www\\S+|https\\S+\", \"\", text, flags=re.MULTILINE)\n",
    "    # Remove special characters and punctuation\n",
    "    text = re.sub(r\"[^\\w\\s]\", \"\", text)\n",
    "    # Remove numbers\n",
    "    text = re.sub(r\"\\d+\", \"\", text)\n",
    "    #Replace ticker symbols with a space. The ticker symbols are any stock symbol that starts with $.\n",
    "    text = re.sub(r'[$][a-zA-Z]+', ' ', text)\n",
    "    # Replace StockTwits usernames with a space. The usernames are any word that starts with @.\n",
    "    text = re.sub(r'[@][a-zA-Z]+', ' ', text)\n",
    "    # Replace everything not a letter with a space\n",
    "    text = re.sub(r'[^a-zA-Z]', ' ', text) # pass\n",
    "    \n",
    "    tokens =  text.split() \n",
    "    \n",
    "    # Remove stop words\n",
    "    text= ' '.join([word for word in tokens if word not in (stop_words)])\n",
    "\n",
    "    return text\n"
   ]
  },
  {
   "cell_type": "code",
   "execution_count": 13,
   "id": "4494a417",
   "metadata": {},
   "outputs": [],
   "source": [
    "# Lemmatize words using the WordNetLemmatizer\n",
    "\n",
    "w_tokenizer = nltk.tokenize.WhitespaceTokenizer()\n",
    "lemmatizer = nltk.stem.WordNetLemmatizer()\n",
    "def lemmatize_text(text):\n",
    "    st = \"\"\n",
    "    for w in w_tokenizer.tokenize(text):\n",
    "        st = st + lemmatizer.lemmatize(w) + \" \"\n",
    "    return st"
   ]
  },
  {
   "cell_type": "markdown",
   "id": "cd9735dd",
   "metadata": {},
   "source": [
    "Now we can preprocess each of the twits in our dataset. Apply the function preprocess_text to all the twit messages."
   ]
  },
  {
   "cell_type": "code",
   "execution_count": null,
   "id": "820b468f",
   "metadata": {},
   "outputs": [],
   "source": []
  },
  {
   "cell_type": "code",
   "execution_count": 14,
   "id": "9a3f14c3",
   "metadata": {},
   "outputs": [],
   "source": [
    "# create a new column that includes the preprocessed tweets\n",
    "\n",
    "df['processed_text'] = df['TWEET'].apply(preprocess_text)\n",
    "\n",
    "df['processed_text'] = df['processed_text'].apply(lemmatize_text)"
   ]
  },
  {
   "cell_type": "code",
   "execution_count": 15,
   "id": "f630d677",
   "metadata": {},
   "outputs": [
    {
     "data": {
      "text/html": [
       "<div>\n",
       "<style scoped>\n",
       "    .dataframe tbody tr th:only-of-type {\n",
       "        vertical-align: middle;\n",
       "    }\n",
       "\n",
       "    .dataframe tbody tr th {\n",
       "        vertical-align: top;\n",
       "    }\n",
       "\n",
       "    .dataframe thead th {\n",
       "        text-align: right;\n",
       "    }\n",
       "</style>\n",
       "<table border=\"1\" class=\"dataframe\">\n",
       "  <thead>\n",
       "    <tr style=\"text-align: right;\">\n",
       "      <th></th>\n",
       "      <th>date</th>\n",
       "      <th>adj_close</th>\n",
       "      <th>volume</th>\n",
       "      <th>ticker</th>\n",
       "      <th>1_day_return</th>\n",
       "      <th>TWEET</th>\n",
       "      <th>processed_text</th>\n",
       "    </tr>\n",
       "  </thead>\n",
       "  <tbody>\n",
       "    <tr>\n",
       "      <th>0</th>\n",
       "      <td>2017-01-31</td>\n",
       "      <td>28.308922</td>\n",
       "      <td>196804000</td>\n",
       "      <td>AAPL</td>\n",
       "      <td>-0.002307</td>\n",
       "      <td>Apple will break losing streak this quarter: P...</td>\n",
       "      <td>apple break losing streak quarter pro nehal ch...</td>\n",
       "    </tr>\n",
       "    <tr>\n",
       "      <th>1</th>\n",
       "      <td>2017-01-31</td>\n",
       "      <td>28.308922</td>\n",
       "      <td>196804000</td>\n",
       "      <td>AAPL</td>\n",
       "      <td>-0.002307</td>\n",
       "      <td>Apple iPad Air 2 128GB, Wi-Fi, 9.7in - Space G...</td>\n",
       "      <td>apple ipad air gb wifi space gray latest model</td>\n",
       "    </tr>\n",
       "    <tr>\n",
       "      <th>2</th>\n",
       "      <td>2017-01-31</td>\n",
       "      <td>28.308922</td>\n",
       "      <td>196804000</td>\n",
       "      <td>AAPL</td>\n",
       "      <td>-0.002307</td>\n",
       "      <td>Apple iPad Air 2 128GB, Wi-Fi, 9.7in - Space G...</td>\n",
       "      <td>apple ipad air gb wifi space gray latest model</td>\n",
       "    </tr>\n",
       "    <tr>\n",
       "      <th>3</th>\n",
       "      <td>2017-01-31</td>\n",
       "      <td>28.308922</td>\n",
       "      <td>196804000</td>\n",
       "      <td>AAPL</td>\n",
       "      <td>-0.002307</td>\n",
       "      <td>Apple iPad Air 2 128GB, Wi-Fi, 9.7in - Space G...</td>\n",
       "      <td>apple ipad air gb wifi space gray latest model</td>\n",
       "    </tr>\n",
       "    <tr>\n",
       "      <th>4</th>\n",
       "      <td>2017-01-31</td>\n",
       "      <td>28.308922</td>\n",
       "      <td>196804000</td>\n",
       "      <td>AAPL</td>\n",
       "      <td>-0.002307</td>\n",
       "      <td>Apple iPad Air 2 128GB, Wi-Fi, 9.7in - Space G...</td>\n",
       "      <td>apple ipad air gb wifi space gray latest model</td>\n",
       "    </tr>\n",
       "  </tbody>\n",
       "</table>\n",
       "</div>"
      ],
      "text/plain": [
       "        date  adj_close     volume ticker  1_day_return  \\\n",
       "0 2017-01-31  28.308922  196804000   AAPL     -0.002307   \n",
       "1 2017-01-31  28.308922  196804000   AAPL     -0.002307   \n",
       "2 2017-01-31  28.308922  196804000   AAPL     -0.002307   \n",
       "3 2017-01-31  28.308922  196804000   AAPL     -0.002307   \n",
       "4 2017-01-31  28.308922  196804000   AAPL     -0.002307   \n",
       "\n",
       "                                               TWEET  \\\n",
       "0  Apple will break losing streak this quarter: P...   \n",
       "1  Apple iPad Air 2 128GB, Wi-Fi, 9.7in - Space G...   \n",
       "2  Apple iPad Air 2 128GB, Wi-Fi, 9.7in - Space G...   \n",
       "3  Apple iPad Air 2 128GB, Wi-Fi, 9.7in - Space G...   \n",
       "4  Apple iPad Air 2 128GB, Wi-Fi, 9.7in - Space G...   \n",
       "\n",
       "                                      processed_text  \n",
       "0  apple break losing streak quarter pro nehal ch...  \n",
       "1    apple ipad air gb wifi space gray latest model   \n",
       "2    apple ipad air gb wifi space gray latest model   \n",
       "3    apple ipad air gb wifi space gray latest model   \n",
       "4    apple ipad air gb wifi space gray latest model   "
      ]
     },
     "execution_count": 15,
     "metadata": {},
     "output_type": "execute_result"
    }
   ],
   "source": [
    "df.head()"
   ]
  },
  {
   "cell_type": "code",
   "execution_count": 16,
   "id": "6aa7610f",
   "metadata": {},
   "outputs": [],
   "source": [
    "df.drop(columns= 'TWEET', inplace=True)"
   ]
  },
  {
   "cell_type": "code",
   "execution_count": 17,
   "id": "9498bd61",
   "metadata": {},
   "outputs": [],
   "source": [
    "df.drop_duplicates(keep='first', inplace=True)"
   ]
  },
  {
   "cell_type": "code",
   "execution_count": 18,
   "id": "92100c87",
   "metadata": {},
   "outputs": [
    {
     "data": {
      "text/html": [
       "<div>\n",
       "<style scoped>\n",
       "    .dataframe tbody tr th:only-of-type {\n",
       "        vertical-align: middle;\n",
       "    }\n",
       "\n",
       "    .dataframe tbody tr th {\n",
       "        vertical-align: top;\n",
       "    }\n",
       "\n",
       "    .dataframe thead th {\n",
       "        text-align: right;\n",
       "    }\n",
       "</style>\n",
       "<table border=\"1\" class=\"dataframe\">\n",
       "  <thead>\n",
       "    <tr style=\"text-align: right;\">\n",
       "      <th></th>\n",
       "      <th>date</th>\n",
       "      <th>adj_close</th>\n",
       "      <th>volume</th>\n",
       "      <th>ticker</th>\n",
       "      <th>1_day_return</th>\n",
       "      <th>processed_text</th>\n",
       "    </tr>\n",
       "  </thead>\n",
       "  <tbody>\n",
       "    <tr>\n",
       "      <th>0</th>\n",
       "      <td>2017-01-31</td>\n",
       "      <td>28.308922</td>\n",
       "      <td>196804000</td>\n",
       "      <td>AAPL</td>\n",
       "      <td>-0.002307</td>\n",
       "      <td>apple break losing streak quarter pro nehal ch...</td>\n",
       "    </tr>\n",
       "    <tr>\n",
       "      <th>1</th>\n",
       "      <td>2017-01-31</td>\n",
       "      <td>28.308922</td>\n",
       "      <td>196804000</td>\n",
       "      <td>AAPL</td>\n",
       "      <td>-0.002307</td>\n",
       "      <td>apple ipad air gb wifi space gray latest model</td>\n",
       "    </tr>\n",
       "    <tr>\n",
       "      <th>5</th>\n",
       "      <td>2017-01-31</td>\n",
       "      <td>28.308922</td>\n",
       "      <td>196804000</td>\n",
       "      <td>AAPL</td>\n",
       "      <td>-0.002307</td>\n",
       "      <td>alien project apple music spotify tidal etc pe...</td>\n",
       "    </tr>\n",
       "    <tr>\n",
       "      <th>6</th>\n",
       "      <td>2017-01-31</td>\n",
       "      <td>28.308922</td>\n",
       "      <td>196804000</td>\n",
       "      <td>AAPL</td>\n",
       "      <td>-0.002307</td>\n",
       "      <td>apple iphone gb black unlocked smartphone case...</td>\n",
       "    </tr>\n",
       "    <tr>\n",
       "      <th>8</th>\n",
       "      <td>2017-01-31</td>\n",
       "      <td>28.308922</td>\n",
       "      <td>196804000</td>\n",
       "      <td>AAPL</td>\n",
       "      <td>-0.002307</td>\n",
       "      <td>finally stream prince music spotify apple musi...</td>\n",
       "    </tr>\n",
       "  </tbody>\n",
       "</table>\n",
       "</div>"
      ],
      "text/plain": [
       "        date  adj_close     volume ticker  1_day_return  \\\n",
       "0 2017-01-31  28.308922  196804000   AAPL     -0.002307   \n",
       "1 2017-01-31  28.308922  196804000   AAPL     -0.002307   \n",
       "5 2017-01-31  28.308922  196804000   AAPL     -0.002307   \n",
       "6 2017-01-31  28.308922  196804000   AAPL     -0.002307   \n",
       "8 2017-01-31  28.308922  196804000   AAPL     -0.002307   \n",
       "\n",
       "                                      processed_text  \n",
       "0  apple break losing streak quarter pro nehal ch...  \n",
       "1    apple ipad air gb wifi space gray latest model   \n",
       "5  alien project apple music spotify tidal etc pe...  \n",
       "6  apple iphone gb black unlocked smartphone case...  \n",
       "8  finally stream prince music spotify apple musi...  "
      ]
     },
     "execution_count": 18,
     "metadata": {},
     "output_type": "execute_result"
    }
   ],
   "source": [
    "df.head()"
   ]
  },
  {
   "cell_type": "code",
   "execution_count": 19,
   "id": "f8940bbb",
   "metadata": {},
   "outputs": [],
   "source": [
    "df=df.reset_index()\n",
    "df.drop(columns='index', inplace=True)"
   ]
  },
  {
   "cell_type": "code",
   "execution_count": 20,
   "id": "edfe9c28",
   "metadata": {},
   "outputs": [
    {
     "name": "stdout",
     "output_type": "stream",
     "text": [
      "<class 'pandas.core.frame.DataFrame'>\n",
      "RangeIndex: 124244 entries, 0 to 124243\n",
      "Data columns (total 6 columns):\n",
      " #   Column          Non-Null Count   Dtype         \n",
      "---  ------          --------------   -----         \n",
      " 0   date            124244 non-null  datetime64[ns]\n",
      " 1   adj_close       124244 non-null  float64       \n",
      " 2   volume          124244 non-null  int64         \n",
      " 3   ticker          124244 non-null  object        \n",
      " 4   1_day_return    124244 non-null  float64       \n",
      " 5   processed_text  124244 non-null  object        \n",
      "dtypes: datetime64[ns](1), float64(2), int64(1), object(2)\n",
      "memory usage: 5.7+ MB\n"
     ]
    }
   ],
   "source": [
    "df.info()"
   ]
  },
  {
   "cell_type": "code",
   "execution_count": null,
   "id": "eb525acf",
   "metadata": {},
   "outputs": [],
   "source": []
  },
  {
   "cell_type": "code",
   "execution_count": null,
   "id": "5e2cce09",
   "metadata": {},
   "outputs": [],
   "source": []
  },
  {
   "cell_type": "code",
   "execution_count": 21,
   "id": "13d067ce",
   "metadata": {},
   "outputs": [],
   "source": [
    "# Preprocess the data\n",
    "tokenizer = Tokenizer()\n",
    "tokenizer.fit_on_texts(df['processed_text'])\n",
    "sequences = tokenizer.texts_to_sequences(df['processed_text'])\n",
    "max_sequence_length = max([len(seq) for seq in sequences])\n",
    "padded_sequences = pad_sequences(sequences, maxlen=max_sequence_length)"
   ]
  },
  {
   "cell_type": "code",
   "execution_count": 22,
   "id": "27b8db32",
   "metadata": {},
   "outputs": [
    {
     "data": {
      "text/plain": [
       "(124244, 26)"
      ]
     },
     "execution_count": 22,
     "metadata": {},
     "output_type": "execute_result"
    }
   ],
   "source": [
    "padded_sequences.shape"
   ]
  },
  {
   "cell_type": "code",
   "execution_count": 23,
   "id": "0eebc7f7",
   "metadata": {},
   "outputs": [],
   "source": [
    "sia = SentimentIntensityAnalyzer()\n",
    "\n",
    "# Function to get sentiment label using VADER sentiment analysis\n",
    "def get_sentiment_label(tweet):\n",
    "    sentiment_scores = sia.polarity_scores(tweet)\n",
    "    compound_score = sentiment_scores['compound']\n",
    "    if compound_score >= 0.05:\n",
    "        return 'positive'\n",
    "    elif compound_score <= -0.05:\n",
    "        return 'negative'\n",
    "    else:\n",
    "        return 'neutral'"
   ]
  },
  {
   "cell_type": "code",
   "execution_count": 24,
   "id": "67b65283",
   "metadata": {},
   "outputs": [],
   "source": [
    "# Prepare the labels \n",
    "df['labels'] = df['processed_text'].apply(lambda x: get_sentiment_label(x))"
   ]
  },
  {
   "cell_type": "code",
   "execution_count": 25,
   "id": "72b6340a",
   "metadata": {},
   "outputs": [
    {
     "data": {
      "text/html": [
       "<div>\n",
       "<style scoped>\n",
       "    .dataframe tbody tr th:only-of-type {\n",
       "        vertical-align: middle;\n",
       "    }\n",
       "\n",
       "    .dataframe tbody tr th {\n",
       "        vertical-align: top;\n",
       "    }\n",
       "\n",
       "    .dataframe thead th {\n",
       "        text-align: right;\n",
       "    }\n",
       "</style>\n",
       "<table border=\"1\" class=\"dataframe\">\n",
       "  <thead>\n",
       "    <tr style=\"text-align: right;\">\n",
       "      <th></th>\n",
       "      <th>date</th>\n",
       "      <th>adj_close</th>\n",
       "      <th>volume</th>\n",
       "      <th>ticker</th>\n",
       "      <th>1_day_return</th>\n",
       "      <th>processed_text</th>\n",
       "      <th>labels</th>\n",
       "    </tr>\n",
       "  </thead>\n",
       "  <tbody>\n",
       "    <tr>\n",
       "      <th>0</th>\n",
       "      <td>2017-01-31</td>\n",
       "      <td>28.308922</td>\n",
       "      <td>196804000</td>\n",
       "      <td>AAPL</td>\n",
       "      <td>-0.002307</td>\n",
       "      <td>apple break losing streak quarter pro nehal ch...</td>\n",
       "      <td>negative</td>\n",
       "    </tr>\n",
       "    <tr>\n",
       "      <th>1</th>\n",
       "      <td>2017-01-31</td>\n",
       "      <td>28.308922</td>\n",
       "      <td>196804000</td>\n",
       "      <td>AAPL</td>\n",
       "      <td>-0.002307</td>\n",
       "      <td>apple ipad air gb wifi space gray latest model</td>\n",
       "      <td>neutral</td>\n",
       "    </tr>\n",
       "    <tr>\n",
       "      <th>2</th>\n",
       "      <td>2017-01-31</td>\n",
       "      <td>28.308922</td>\n",
       "      <td>196804000</td>\n",
       "      <td>AAPL</td>\n",
       "      <td>-0.002307</td>\n",
       "      <td>alien project apple music spotify tidal etc pe...</td>\n",
       "      <td>neutral</td>\n",
       "    </tr>\n",
       "    <tr>\n",
       "      <th>3</th>\n",
       "      <td>2017-01-31</td>\n",
       "      <td>28.308922</td>\n",
       "      <td>196804000</td>\n",
       "      <td>AAPL</td>\n",
       "      <td>-0.002307</td>\n",
       "      <td>apple iphone gb black unlocked smartphone case...</td>\n",
       "      <td>positive</td>\n",
       "    </tr>\n",
       "    <tr>\n",
       "      <th>4</th>\n",
       "      <td>2017-01-31</td>\n",
       "      <td>28.308922</td>\n",
       "      <td>196804000</td>\n",
       "      <td>AAPL</td>\n",
       "      <td>-0.002307</td>\n",
       "      <td>finally stream prince music spotify apple musi...</td>\n",
       "      <td>negative</td>\n",
       "    </tr>\n",
       "  </tbody>\n",
       "</table>\n",
       "</div>"
      ],
      "text/plain": [
       "        date  adj_close     volume ticker  1_day_return  \\\n",
       "0 2017-01-31  28.308922  196804000   AAPL     -0.002307   \n",
       "1 2017-01-31  28.308922  196804000   AAPL     -0.002307   \n",
       "2 2017-01-31  28.308922  196804000   AAPL     -0.002307   \n",
       "3 2017-01-31  28.308922  196804000   AAPL     -0.002307   \n",
       "4 2017-01-31  28.308922  196804000   AAPL     -0.002307   \n",
       "\n",
       "                                      processed_text    labels  \n",
       "0  apple break losing streak quarter pro nehal ch...  negative  \n",
       "1    apple ipad air gb wifi space gray latest model    neutral  \n",
       "2  alien project apple music spotify tidal etc pe...   neutral  \n",
       "3  apple iphone gb black unlocked smartphone case...  positive  \n",
       "4  finally stream prince music spotify apple musi...  negative  "
      ]
     },
     "execution_count": 25,
     "metadata": {},
     "output_type": "execute_result"
    }
   ],
   "source": [
    "df.head()"
   ]
  },
  {
   "cell_type": "code",
   "execution_count": 26,
   "id": "edcf4db3",
   "metadata": {},
   "outputs": [
    {
     "data": {
      "text/plain": [
       "(124244, 7)"
      ]
     },
     "execution_count": 26,
     "metadata": {},
     "output_type": "execute_result"
    }
   ],
   "source": [
    "df.shape"
   ]
  },
  {
   "cell_type": "code",
   "execution_count": 27,
   "id": "88b8b224",
   "metadata": {},
   "outputs": [
    {
     "name": "stdout",
     "output_type": "stream",
     "text": [
      "Average length of each review :  11.822486397733492\n",
      "Percentage of reviews with positive sentiment is 46.31129068606935%\n",
      "Percentage of reviews with negative sentiment is 22.018769518045136%\n",
      "Percentage of reviews with neutral sentiment is 31.669939795885515%\n"
     ]
    }
   ],
   "source": [
    "# Check if data is balanced\n",
    "\n",
    "s = 0.0\n",
    "for i in df['processed_text']:\n",
    "    word_list = i.split()\n",
    "    s = s + len(word_list)\n",
    "print(\"Average length of each review : \",s/df.shape[0])\n",
    "\n",
    "pos = 0\n",
    "for i in range(df.shape[0]):\n",
    "    if df.iloc[i]['labels'] == 'positive':\n",
    "        pos = pos + 1\n",
    "\n",
    "neg = 0\n",
    "for i in range(df.shape[0]):\n",
    "    if df.iloc[i]['labels'] == 'negative':\n",
    "        neg = neg + 1\n",
    "        \n",
    "neu = df.shape[0]-pos-neg\n",
    "print(\"Percentage of reviews with positive sentiment is \"+str(pos/df.shape[0]*100)+\"%\")\n",
    "print(\"Percentage of reviews with negative sentiment is \"+str(neg/df.shape[0]*100)+\"%\")\n",
    "print(\"Percentage of reviews with neutral sentiment is \"+str(neu/df.shape[0]*100)+\"%\")"
   ]
  },
  {
   "cell_type": "markdown",
   "id": "262b92b6",
   "metadata": {},
   "source": [
    "### Encoding labels and train/test split"
   ]
  },
  {
   "cell_type": "code",
   "execution_count": 38,
   "id": "256a2492",
   "metadata": {},
   "outputs": [],
   "source": [
    "# tweets = df['processed_text'].values\n"
   ]
  },
  {
   "cell_type": "code",
   "execution_count": 39,
   "id": "d65fd9a4",
   "metadata": {},
   "outputs": [],
   "source": [
    "labels = df['labels'].values\n",
    "encoder = LabelEncoder()\n",
    "encoded_labels = encoder.fit_transform(labels)"
   ]
  },
  {
   "cell_type": "code",
   "execution_count": 40,
   "id": "877d6a74",
   "metadata": {},
   "outputs": [
    {
     "data": {
      "text/plain": [
       "array([0, 1, 1, ..., 2, 0, 2])"
      ]
     },
     "execution_count": 40,
     "metadata": {},
     "output_type": "execute_result"
    }
   ],
   "source": [
    "encoded_labels"
   ]
  },
  {
   "cell_type": "code",
   "execution_count": 41,
   "id": "93a2894e",
   "metadata": {},
   "outputs": [],
   "source": [
    "# Split the data into training and testing sets\n",
    "X_train, X_test, y_train, y_test = train_test_split(padded_sequences, encoded_labels, test_size=0.2, random_state=42)\n"
   ]
  },
  {
   "cell_type": "code",
   "execution_count": 42,
   "id": "e40e250a",
   "metadata": {},
   "outputs": [],
   "source": [
    "# y_train_encoded = tf.keras.utils.to_categorical(y_train, num_classes=3)\n",
    "# y_test_encoded = tf.keras.utils.to_categorical(y_test, num_classes=3)\n"
   ]
  },
  {
   "cell_type": "code",
   "execution_count": 43,
   "id": "b8a5f5d5",
   "metadata": {},
   "outputs": [
    {
     "data": {
      "text/plain": [
       "132612"
      ]
     },
     "execution_count": 43,
     "metadata": {},
     "output_type": "execute_result"
    }
   ],
   "source": [
    "len(tokenizer.word_index)"
   ]
  },
  {
   "cell_type": "code",
   "execution_count": 44,
   "id": "97c7eb6f",
   "metadata": {},
   "outputs": [
    {
     "data": {
      "text/plain": [
       "26"
      ]
     },
     "execution_count": 44,
     "metadata": {},
     "output_type": "execute_result"
    }
   ],
   "source": [
    "max_sequence_length"
   ]
  },
  {
   "cell_type": "code",
   "execution_count": 45,
   "id": "80fe9696",
   "metadata": {},
   "outputs": [],
   "source": [
    "# Build the LSTM model\n",
    "model = Sequential()\n",
    "model.add(Embedding(input_dim=len(tokenizer.word_index) + 1, output_dim=100, input_length=max_sequence_length))\n",
    "model.add(Bidirectional(LSTM(units=64, dropout=0.2, recurrent_dropout=0.2)))\n",
    "model.add(Dense(units=32, activation='softmax'))\n",
    "model.add(Dense(units=3, activation='softmax'))"
   ]
  },
  {
   "cell_type": "code",
   "execution_count": 46,
   "id": "b699178d",
   "metadata": {},
   "outputs": [
    {
     "name": "stdout",
     "output_type": "stream",
     "text": [
      "Model: \"sequential_1\"\n",
      "_________________________________________________________________\n",
      " Layer (type)                Output Shape              Param #   \n",
      "=================================================================\n",
      " embedding_1 (Embedding)     (None, 26, 100)           13261300  \n",
      "                                                                 \n",
      " bidirectional_1 (Bidirectio  (None, 128)              84480     \n",
      " nal)                                                            \n",
      "                                                                 \n",
      " dense_2 (Dense)             (None, 32)                4128      \n",
      "                                                                 \n",
      " dense_3 (Dense)             (None, 3)                 99        \n",
      "                                                                 \n",
      "=================================================================\n",
      "Total params: 13,350,007\n",
      "Trainable params: 13,350,007\n",
      "Non-trainable params: 0\n",
      "_________________________________________________________________\n",
      "None\n"
     ]
    }
   ],
   "source": [
    "# Compile the model\n",
    "\n",
    "model.compile(loss='sparse_categorical_crossentropy', optimizer='adam', metrics=['accuracy'])\n",
    "print(model.summary())"
   ]
  },
  {
   "cell_type": "code",
   "execution_count": 47,
   "id": "3ef33010",
   "metadata": {},
   "outputs": [
    {
     "name": "stdout",
     "output_type": "stream",
     "text": [
      "Epoch 1/15\n",
      "389/389 [==============================] - 226s 562ms/step - loss: 0.9013 - accuracy: 0.6215 - val_loss: 0.7220 - val_accuracy: 0.7561\n",
      "Epoch 2/15\n",
      "389/389 [==============================] - 229s 590ms/step - loss: 0.5362 - accuracy: 0.8651 - val_loss: 0.4030 - val_accuracy: 0.9109\n",
      "Epoch 3/15\n",
      "389/389 [==============================] - 243s 624ms/step - loss: 0.3190 - accuracy: 0.9342 - val_loss: 0.2963 - val_accuracy: 0.9319\n",
      "Epoch 4/15\n",
      "389/389 [==============================] - 241s 620ms/step - loss: 0.2150 - accuracy: 0.9593 - val_loss: 0.2528 - val_accuracy: 0.9374\n",
      "Epoch 5/15\n",
      "389/389 [==============================] - 234s 602ms/step - loss: 0.1581 - accuracy: 0.9707 - val_loss: 0.2326 - val_accuracy: 0.9375\n",
      "Epoch 6/15\n",
      "389/389 [==============================] - 229s 587ms/step - loss: 0.1224 - accuracy: 0.9776 - val_loss: 0.2288 - val_accuracy: 0.9392\n",
      "Epoch 7/15\n",
      "389/389 [==============================] - 233s 598ms/step - loss: 0.0970 - accuracy: 0.9815 - val_loss: 0.2138 - val_accuracy: 0.9399\n",
      "Epoch 8/15\n",
      "389/389 [==============================] - 236s 608ms/step - loss: 0.0793 - accuracy: 0.9843 - val_loss: 0.2179 - val_accuracy: 0.9383\n",
      "Epoch 9/15\n",
      "389/389 [==============================] - 228s 586ms/step - loss: 0.0659 - accuracy: 0.9865 - val_loss: 0.2089 - val_accuracy: 0.9389\n",
      "Epoch 10/15\n",
      "389/389 [==============================] - 221s 568ms/step - loss: 0.0513 - accuracy: 0.9902 - val_loss: 0.2187 - val_accuracy: 0.9309\n",
      "Epoch 11/15\n",
      "389/389 [==============================] - 220s 566ms/step - loss: 0.0400 - accuracy: 0.9928 - val_loss: 0.2259 - val_accuracy: 0.9323\n",
      "Epoch 12/15\n",
      "389/389 [==============================] - 217s 558ms/step - loss: 0.0308 - accuracy: 0.9951 - val_loss: 0.2214 - val_accuracy: 0.9400\n",
      "Epoch 13/15\n",
      "389/389 [==============================] - 218s 560ms/step - loss: 0.0255 - accuracy: 0.9959 - val_loss: 0.2340 - val_accuracy: 0.9390\n",
      "Epoch 14/15\n",
      "389/389 [==============================] - 220s 565ms/step - loss: 0.0212 - accuracy: 0.9967 - val_loss: 0.2507 - val_accuracy: 0.9331\n",
      "Epoch 15/15\n",
      "389/389 [==============================] - 220s 566ms/step - loss: 0.0172 - accuracy: 0.9974 - val_loss: 0.2568 - val_accuracy: 0.9405\n"
     ]
    }
   ],
   "source": [
    "\n",
    "# Train the model\n",
    "history= model.fit(X_train, y_train, batch_size=256, epochs=15, validation_data=(X_test, y_test))"
   ]
  },
  {
   "cell_type": "code",
   "execution_count": null,
   "id": "814acbac",
   "metadata": {},
   "outputs": [],
   "source": [
    "# history.history"
   ]
  },
  {
   "cell_type": "code",
   "execution_count": 48,
   "id": "bf730053",
   "metadata": {},
   "outputs": [
    {
     "data": {
      "image/png": "[encoded data removed]",
      "text/plain": [
       "<Figure size 640x480 with 1 Axes>"
      ]
     },
     "metadata": {},
     "output_type": "display_data"
    }
   ],
   "source": [
    "# plot history\n",
    "plt.plot(history.history['loss'], label= 'train')\n",
    "plt.plot(history.history['val_loss'], label= 'test')\n",
    "plt.legend()\n",
    "plt.xlabel('# of epochs')\n",
    "plt.ylabel('Loss')\n",
    "plt.show();"
   ]
  },
  {
   "cell_type": "code",
   "execution_count": 49,
   "id": "e9d76684",
   "metadata": {},
   "outputs": [
    {
     "data": {
      "image/png": "[encoded data removed]",
      "text/plain": [
       "<Figure size 640x480 with 1 Axes>"
      ]
     },
     "metadata": {},
     "output_type": "display_data"
    }
   ],
   "source": [
    "# plot history\n",
    "plt.plot(history.history['accuracy'], label= 'train')\n",
    "plt.plot(history.history['val_accuracy'], label= 'test')\n",
    "plt.legend()\n",
    "plt.xlabel('# of epochs')\n",
    "plt.ylabel('Accuracy')\n",
    "plt.show();"
   ]
  },
  {
   "cell_type": "markdown",
   "id": "a504b0f4",
   "metadata": {},
   "source": [
    "### Evaluate the model"
   ]
  },
  {
   "cell_type": "code",
   "execution_count": 50,
   "id": "bddf45e1",
   "metadata": {},
   "outputs": [
    {
     "name": "stdout",
     "output_type": "stream",
     "text": [
      "Accuracy: 94.05%\n"
     ]
    }
   ],
   "source": [
    "# Final evaluation of the model\n",
    "scores = model.evaluate(X_test, y_test, verbose=0)\n",
    "print(\"Accuracy: %.2f%%\" % (scores[1]*100))"
   ]
  },
  {
   "cell_type": "code",
   "execution_count": null,
   "id": "2d1a5246",
   "metadata": {},
   "outputs": [],
   "source": []
  },
  {
   "cell_type": "code",
   "execution_count": 51,
   "id": "9d8e7f01",
   "metadata": {},
   "outputs": [
    {
     "name": "stdout",
     "output_type": "stream",
     "text": [
      "3883/3883 [==============================] - 42s 10ms/step\n"
     ]
    }
   ],
   "source": [
    "\n",
    "# Predict sentiment labels\n",
    "predicted_labels = model.predict(padded_sequences)\n",
    "\n"
   ]
  },
  {
   "cell_type": "code",
   "execution_count": 52,
   "id": "baac2375",
   "metadata": {},
   "outputs": [
    {
     "data": {
      "text/plain": [
       "array([[0.99309134, 0.00377028, 0.00313842],\n",
       "       [0.00136719, 0.9937552 , 0.00487752],\n",
       "       [0.00136693, 0.99375856, 0.00487448],\n",
       "       ...,\n",
       "       [0.0018416 , 0.00317701, 0.99498147],\n",
       "       [0.9931403 , 0.0037384 , 0.00312126],\n",
       "       [0.00184036, 0.00317381, 0.9949858 ]], dtype=float32)"
      ]
     },
     "execution_count": 52,
     "metadata": {},
     "output_type": "execute_result"
    }
   ],
   "source": [
    "predicted_labels"
   ]
  },
  {
   "cell_type": "code",
   "execution_count": 53,
   "id": "4e3ebd67",
   "metadata": {},
   "outputs": [],
   "source": [
    "predicted_labels_df= pd.DataFrame(predicted_labels)"
   ]
  },
  {
   "cell_type": "code",
   "execution_count": 54,
   "id": "3ea5ef05",
   "metadata": {},
   "outputs": [
    {
     "data": {
      "text/html": [
       "<div>\n",
       "<style scoped>\n",
       "    .dataframe tbody tr th:only-of-type {\n",
       "        vertical-align: middle;\n",
       "    }\n",
       "\n",
       "    .dataframe tbody tr th {\n",
       "        vertical-align: top;\n",
       "    }\n",
       "\n",
       "    .dataframe thead th {\n",
       "        text-align: right;\n",
       "    }\n",
       "</style>\n",
       "<table border=\"1\" class=\"dataframe\">\n",
       "  <thead>\n",
       "    <tr style=\"text-align: right;\">\n",
       "      <th></th>\n",
       "      <th>0</th>\n",
       "      <th>1</th>\n",
       "      <th>2</th>\n",
       "    </tr>\n",
       "  </thead>\n",
       "  <tbody>\n",
       "    <tr>\n",
       "      <th>0</th>\n",
       "      <td>0.993091</td>\n",
       "      <td>0.003770</td>\n",
       "      <td>0.003138</td>\n",
       "    </tr>\n",
       "    <tr>\n",
       "      <th>1</th>\n",
       "      <td>0.001367</td>\n",
       "      <td>0.993755</td>\n",
       "      <td>0.004878</td>\n",
       "    </tr>\n",
       "    <tr>\n",
       "      <th>2</th>\n",
       "      <td>0.001367</td>\n",
       "      <td>0.993759</td>\n",
       "      <td>0.004874</td>\n",
       "    </tr>\n",
       "    <tr>\n",
       "      <th>3</th>\n",
       "      <td>0.001926</td>\n",
       "      <td>0.003326</td>\n",
       "      <td>0.994747</td>\n",
       "    </tr>\n",
       "    <tr>\n",
       "      <th>4</th>\n",
       "      <td>0.992291</td>\n",
       "      <td>0.004253</td>\n",
       "      <td>0.003456</td>\n",
       "    </tr>\n",
       "    <tr>\n",
       "      <th>...</th>\n",
       "      <td>...</td>\n",
       "      <td>...</td>\n",
       "      <td>...</td>\n",
       "    </tr>\n",
       "    <tr>\n",
       "      <th>124239</th>\n",
       "      <td>0.001840</td>\n",
       "      <td>0.003174</td>\n",
       "      <td>0.994986</td>\n",
       "    </tr>\n",
       "    <tr>\n",
       "      <th>124240</th>\n",
       "      <td>0.001842</td>\n",
       "      <td>0.003177</td>\n",
       "      <td>0.994981</td>\n",
       "    </tr>\n",
       "    <tr>\n",
       "      <th>124241</th>\n",
       "      <td>0.001842</td>\n",
       "      <td>0.003177</td>\n",
       "      <td>0.994981</td>\n",
       "    </tr>\n",
       "    <tr>\n",
       "      <th>124242</th>\n",
       "      <td>0.993140</td>\n",
       "      <td>0.003738</td>\n",
       "      <td>0.003121</td>\n",
       "    </tr>\n",
       "    <tr>\n",
       "      <th>124243</th>\n",
       "      <td>0.001840</td>\n",
       "      <td>0.003174</td>\n",
       "      <td>0.994986</td>\n",
       "    </tr>\n",
       "  </tbody>\n",
       "</table>\n",
       "<p>124244 rows × 3 columns</p>\n",
       "</div>"
      ],
      "text/plain": [
       "               0         1         2\n",
       "0       0.993091  0.003770  0.003138\n",
       "1       0.001367  0.993755  0.004878\n",
       "2       0.001367  0.993759  0.004874\n",
       "3       0.001926  0.003326  0.994747\n",
       "4       0.992291  0.004253  0.003456\n",
       "...          ...       ...       ...\n",
       "124239  0.001840  0.003174  0.994986\n",
       "124240  0.001842  0.003177  0.994981\n",
       "124241  0.001842  0.003177  0.994981\n",
       "124242  0.993140  0.003738  0.003121\n",
       "124243  0.001840  0.003174  0.994986\n",
       "\n",
       "[124244 rows x 3 columns]"
      ]
     },
     "execution_count": 54,
     "metadata": {},
     "output_type": "execute_result"
    }
   ],
   "source": [
    "predicted_labels_df"
   ]
  },
  {
   "cell_type": "code",
   "execution_count": 55,
   "id": "8cc11d1b",
   "metadata": {},
   "outputs": [
    {
     "data": {
      "text/plain": [
       "RangeIndex(start=0, stop=124244, step=1)"
      ]
     },
     "execution_count": 55,
     "metadata": {},
     "output_type": "execute_result"
    }
   ],
   "source": [
    "predicted_labels_df.index"
   ]
  },
  {
   "cell_type": "code",
   "execution_count": 56,
   "id": "4e4d4fec",
   "metadata": {},
   "outputs": [],
   "source": [
    "max_prob = predicted_labels_df.idxmax(axis=1)\n",
    "    "
   ]
  },
  {
   "cell_type": "code",
   "execution_count": 57,
   "id": "a2ed4ebf",
   "metadata": {},
   "outputs": [],
   "source": [
    "max_prob= pd.DataFrame(max_prob, columns=['predicted_label'])"
   ]
  },
  {
   "cell_type": "code",
   "execution_count": 58,
   "id": "bb2dfae3",
   "metadata": {},
   "outputs": [],
   "source": [
    "df_labled= df.merge(max_prob, left_index=True, right_index=True)"
   ]
  },
  {
   "cell_type": "code",
   "execution_count": 59,
   "id": "f76f6d9d",
   "metadata": {},
   "outputs": [
    {
     "data": {
      "text/html": [
       "<div>\n",
       "<style scoped>\n",
       "    .dataframe tbody tr th:only-of-type {\n",
       "        vertical-align: middle;\n",
       "    }\n",
       "\n",
       "    .dataframe tbody tr th {\n",
       "        vertical-align: top;\n",
       "    }\n",
       "\n",
       "    .dataframe thead th {\n",
       "        text-align: right;\n",
       "    }\n",
       "</style>\n",
       "<table border=\"1\" class=\"dataframe\">\n",
       "  <thead>\n",
       "    <tr style=\"text-align: right;\">\n",
       "      <th></th>\n",
       "      <th>date</th>\n",
       "      <th>adj_close</th>\n",
       "      <th>volume</th>\n",
       "      <th>ticker</th>\n",
       "      <th>1_day_return</th>\n",
       "      <th>processed_text</th>\n",
       "      <th>labels</th>\n",
       "      <th>predicted_label</th>\n",
       "    </tr>\n",
       "  </thead>\n",
       "  <tbody>\n",
       "    <tr>\n",
       "      <th>0</th>\n",
       "      <td>2017-01-31</td>\n",
       "      <td>28.308922</td>\n",
       "      <td>196804000</td>\n",
       "      <td>AAPL</td>\n",
       "      <td>-0.002307</td>\n",
       "      <td>apple break losing streak quarter pro nehal ch...</td>\n",
       "      <td>negative</td>\n",
       "      <td>0</td>\n",
       "    </tr>\n",
       "    <tr>\n",
       "      <th>1</th>\n",
       "      <td>2017-01-31</td>\n",
       "      <td>28.308922</td>\n",
       "      <td>196804000</td>\n",
       "      <td>AAPL</td>\n",
       "      <td>-0.002307</td>\n",
       "      <td>apple ipad air gb wifi space gray latest model</td>\n",
       "      <td>neutral</td>\n",
       "      <td>1</td>\n",
       "    </tr>\n",
       "    <tr>\n",
       "      <th>2</th>\n",
       "      <td>2017-01-31</td>\n",
       "      <td>28.308922</td>\n",
       "      <td>196804000</td>\n",
       "      <td>AAPL</td>\n",
       "      <td>-0.002307</td>\n",
       "      <td>alien project apple music spotify tidal etc pe...</td>\n",
       "      <td>neutral</td>\n",
       "      <td>1</td>\n",
       "    </tr>\n",
       "    <tr>\n",
       "      <th>3</th>\n",
       "      <td>2017-01-31</td>\n",
       "      <td>28.308922</td>\n",
       "      <td>196804000</td>\n",
       "      <td>AAPL</td>\n",
       "      <td>-0.002307</td>\n",
       "      <td>apple iphone gb black unlocked smartphone case...</td>\n",
       "      <td>positive</td>\n",
       "      <td>2</td>\n",
       "    </tr>\n",
       "    <tr>\n",
       "      <th>4</th>\n",
       "      <td>2017-01-31</td>\n",
       "      <td>28.308922</td>\n",
       "      <td>196804000</td>\n",
       "      <td>AAPL</td>\n",
       "      <td>-0.002307</td>\n",
       "      <td>finally stream prince music spotify apple musi...</td>\n",
       "      <td>negative</td>\n",
       "      <td>0</td>\n",
       "    </tr>\n",
       "  </tbody>\n",
       "</table>\n",
       "</div>"
      ],
      "text/plain": [
       "        date  adj_close     volume ticker  1_day_return  \\\n",
       "0 2017-01-31  28.308922  196804000   AAPL     -0.002307   \n",
       "1 2017-01-31  28.308922  196804000   AAPL     -0.002307   \n",
       "2 2017-01-31  28.308922  196804000   AAPL     -0.002307   \n",
       "3 2017-01-31  28.308922  196804000   AAPL     -0.002307   \n",
       "4 2017-01-31  28.308922  196804000   AAPL     -0.002307   \n",
       "\n",
       "                                      processed_text    labels  \\\n",
       "0  apple break losing streak quarter pro nehal ch...  negative   \n",
       "1    apple ipad air gb wifi space gray latest model    neutral   \n",
       "2  alien project apple music spotify tidal etc pe...   neutral   \n",
       "3  apple iphone gb black unlocked smartphone case...  positive   \n",
       "4  finally stream prince music spotify apple musi...  negative   \n",
       "\n",
       "   predicted_label  \n",
       "0                0  \n",
       "1                1  \n",
       "2                1  \n",
       "3                2  \n",
       "4                0  "
      ]
     },
     "execution_count": 59,
     "metadata": {},
     "output_type": "execute_result"
    }
   ],
   "source": [
    "df_labled.head()"
   ]
  },
  {
   "cell_type": "code",
   "execution_count": 60,
   "id": "95d98754",
   "metadata": {},
   "outputs": [],
   "source": [
    "df_labled.drop(columns=['labels', 'processed_text'], inplace=True)"
   ]
  },
  {
   "cell_type": "code",
   "execution_count": 61,
   "id": "a35174fa",
   "metadata": {},
   "outputs": [],
   "source": [
    "# Save the updated DataFrame\n",
    "df_labled.to_csv('../Data/sentiment_labels.csv', index=False)  "
   ]
  },
  {
   "cell_type": "code",
   "execution_count": null,
   "id": "1471ae1f",
   "metadata": {},
   "outputs": [],
   "source": []
  }
 ],
 "metadata": {
  "kernelspec": {
   "display_name": "Python 3 (ipykernel)",
   "language": "python",
   "name": "python3"
  },
  "language_info": {
   "codemirror_mode": {
    "name": "ipython",
    "version": 3
   },
   "file_extension": ".py",
   "mimetype": "text/x-python",
   "name": "python",
   "nbconvert_exporter": "python",
   "pygments_lexer": "ipython3",
   "version": "3.10.11"
  }
 },
 "nbformat": 4,
 "nbformat_minor": 5
}
